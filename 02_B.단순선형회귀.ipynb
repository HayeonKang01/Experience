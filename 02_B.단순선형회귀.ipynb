{
 "cells": [
  {
   "cell_type": "markdown",
   "metadata": {},
   "source": [
    "> # **단순 선형 회귀**"
   ]
  },
  {
   "cell_type": "markdown",
   "metadata": {},
   "source": [
    "## < 사이킷런에서 최소제곱법으로 단순 선형회귀 수행 >"
   ]
  },
  {
   "cell_type": "markdown",
   "metadata": {},
   "source": [
    "##### 1. 데이터 수집 및 탐색 \n",
    "##### 2. 모델 클래스 선택\n",
    "##### 3. 모델 객체 생성 \n",
    "##### 4. 모델에 사용할 특성 데이터셋 및 타겟 데이터셋 준비 \n",
    "##### 5. 객체에 대해 학습 수행 : fit()\n",
    "##### 6. 실행 객체 또는 추정된 모델에 대해 예측 수행 : predict()\n",
    "##### 7. 분석 결과 평가 : MSE, RMSE, R2(결정계수)"
   ]
  },
  {
   "cell_type": "markdown",
   "metadata": {},
   "source": [
    "### 필요한 모듈 import"
   ]
  },
  {
   "cell_type": "code",
   "execution_count": 29,
   "metadata": {},
   "outputs": [],
   "source": [
    "import pandas as pd\n",
    "import matplotlib.pyplot as plt\n",
    "import numpy as np "
   ]
  },
  {
   "cell_type": "markdown",
   "metadata": {},
   "source": [
    "# 1. 맥주 데이터를 활용한 단순 선형 회귀 실습"
   ]
  },
  {
   "cell_type": "markdown",
   "metadata": {},
   "source": [
    "### 데이터 수집"
   ]
  },
  {
   "cell_type": "code",
   "execution_count": 30,
   "metadata": {},
   "outputs": [
    {
     "data": {
      "text/html": [
       "<div>\n",
       "<style scoped>\n",
       "    .dataframe tbody tr th:only-of-type {\n",
       "        vertical-align: middle;\n",
       "    }\n",
       "\n",
       "    .dataframe tbody tr th {\n",
       "        vertical-align: top;\n",
       "    }\n",
       "\n",
       "    .dataframe thead th {\n",
       "        text-align: right;\n",
       "    }\n",
       "</style>\n",
       "<table border=\"1\" class=\"dataframe\">\n",
       "  <thead>\n",
       "    <tr style=\"text-align: right;\">\n",
       "      <th></th>\n",
       "      <th>beer</th>\n",
       "      <th>temperature</th>\n",
       "    </tr>\n",
       "  </thead>\n",
       "  <tbody>\n",
       "    <tr>\n",
       "      <th>0</th>\n",
       "      <td>45.3</td>\n",
       "      <td>20.5</td>\n",
       "    </tr>\n",
       "    <tr>\n",
       "      <th>1</th>\n",
       "      <td>59.3</td>\n",
       "      <td>25.0</td>\n",
       "    </tr>\n",
       "    <tr>\n",
       "      <th>2</th>\n",
       "      <td>40.4</td>\n",
       "      <td>10.0</td>\n",
       "    </tr>\n",
       "    <tr>\n",
       "      <th>3</th>\n",
       "      <td>38.0</td>\n",
       "      <td>26.9</td>\n",
       "    </tr>\n",
       "    <tr>\n",
       "      <th>4</th>\n",
       "      <td>37.0</td>\n",
       "      <td>15.8</td>\n",
       "    </tr>\n",
       "    <tr>\n",
       "      <th>5</th>\n",
       "      <td>40.9</td>\n",
       "      <td>4.2</td>\n",
       "    </tr>\n",
       "    <tr>\n",
       "      <th>6</th>\n",
       "      <td>60.2</td>\n",
       "      <td>13.5</td>\n",
       "    </tr>\n",
       "    <tr>\n",
       "      <th>7</th>\n",
       "      <td>63.3</td>\n",
       "      <td>26.0</td>\n",
       "    </tr>\n",
       "    <tr>\n",
       "      <th>8</th>\n",
       "      <td>51.1</td>\n",
       "      <td>23.3</td>\n",
       "    </tr>\n",
       "    <tr>\n",
       "      <th>9</th>\n",
       "      <td>44.9</td>\n",
       "      <td>8.5</td>\n",
       "    </tr>\n",
       "    <tr>\n",
       "      <th>10</th>\n",
       "      <td>47.0</td>\n",
       "      <td>26.2</td>\n",
       "    </tr>\n",
       "    <tr>\n",
       "      <th>11</th>\n",
       "      <td>53.2</td>\n",
       "      <td>19.1</td>\n",
       "    </tr>\n",
       "    <tr>\n",
       "      <th>12</th>\n",
       "      <td>43.5</td>\n",
       "      <td>24.3</td>\n",
       "    </tr>\n",
       "    <tr>\n",
       "      <th>13</th>\n",
       "      <td>53.2</td>\n",
       "      <td>23.3</td>\n",
       "    </tr>\n",
       "    <tr>\n",
       "      <th>14</th>\n",
       "      <td>37.4</td>\n",
       "      <td>8.4</td>\n",
       "    </tr>\n",
       "    <tr>\n",
       "      <th>15</th>\n",
       "      <td>59.9</td>\n",
       "      <td>23.5</td>\n",
       "    </tr>\n",
       "    <tr>\n",
       "      <th>16</th>\n",
       "      <td>41.5</td>\n",
       "      <td>13.9</td>\n",
       "    </tr>\n",
       "    <tr>\n",
       "      <th>17</th>\n",
       "      <td>75.1</td>\n",
       "      <td>35.5</td>\n",
       "    </tr>\n",
       "    <tr>\n",
       "      <th>18</th>\n",
       "      <td>55.6</td>\n",
       "      <td>27.2</td>\n",
       "    </tr>\n",
       "    <tr>\n",
       "      <th>19</th>\n",
       "      <td>57.2</td>\n",
       "      <td>20.5</td>\n",
       "    </tr>\n",
       "    <tr>\n",
       "      <th>20</th>\n",
       "      <td>46.5</td>\n",
       "      <td>10.2</td>\n",
       "    </tr>\n",
       "    <tr>\n",
       "      <th>21</th>\n",
       "      <td>35.8</td>\n",
       "      <td>20.5</td>\n",
       "    </tr>\n",
       "    <tr>\n",
       "      <th>22</th>\n",
       "      <td>51.9</td>\n",
       "      <td>21.6</td>\n",
       "    </tr>\n",
       "    <tr>\n",
       "      <th>23</th>\n",
       "      <td>38.2</td>\n",
       "      <td>7.9</td>\n",
       "    </tr>\n",
       "    <tr>\n",
       "      <th>24</th>\n",
       "      <td>66.0</td>\n",
       "      <td>42.2</td>\n",
       "    </tr>\n",
       "    <tr>\n",
       "      <th>25</th>\n",
       "      <td>55.3</td>\n",
       "      <td>23.9</td>\n",
       "    </tr>\n",
       "    <tr>\n",
       "      <th>26</th>\n",
       "      <td>55.3</td>\n",
       "      <td>36.9</td>\n",
       "    </tr>\n",
       "    <tr>\n",
       "      <th>27</th>\n",
       "      <td>43.3</td>\n",
       "      <td>8.9</td>\n",
       "    </tr>\n",
       "    <tr>\n",
       "      <th>28</th>\n",
       "      <td>70.5</td>\n",
       "      <td>36.4</td>\n",
       "    </tr>\n",
       "    <tr>\n",
       "      <th>29</th>\n",
       "      <td>38.8</td>\n",
       "      <td>6.4</td>\n",
       "    </tr>\n",
       "  </tbody>\n",
       "</table>\n",
       "</div>"
      ],
      "text/plain": [
       "    beer  temperature\n",
       "0   45.3         20.5\n",
       "1   59.3         25.0\n",
       "2   40.4         10.0\n",
       "3   38.0         26.9\n",
       "4   37.0         15.8\n",
       "5   40.9          4.2\n",
       "6   60.2         13.5\n",
       "7   63.3         26.0\n",
       "8   51.1         23.3\n",
       "9   44.9          8.5\n",
       "10  47.0         26.2\n",
       "11  53.2         19.1\n",
       "12  43.5         24.3\n",
       "13  53.2         23.3\n",
       "14  37.4          8.4\n",
       "15  59.9         23.5\n",
       "16  41.5         13.9\n",
       "17  75.1         35.5\n",
       "18  55.6         27.2\n",
       "19  57.2         20.5\n",
       "20  46.5         10.2\n",
       "21  35.8         20.5\n",
       "22  51.9         21.6\n",
       "23  38.2          7.9\n",
       "24  66.0         42.2\n",
       "25  55.3         23.9\n",
       "26  55.3         36.9\n",
       "27  43.3          8.9\n",
       "28  70.5         36.4\n",
       "29  38.8          6.4"
      ]
     },
     "execution_count": 30,
     "metadata": {},
     "output_type": "execute_result"
    }
   ],
   "source": [
    "beer = pd.read_csv(\"/Users/hayeon/Downloads/데청캠/회귀분석/data/beer.csv\")\n",
    "beer"
   ]
  },
  {
   "cell_type": "markdown",
   "metadata": {},
   "source": [
    "### 데이터 탐색"
   ]
  },
  {
   "cell_type": "code",
   "execution_count": 31,
   "metadata": {},
   "outputs": [
    {
     "data": {
      "image/png": "[encoded data removed]",
      "text/plain": [
       "<Figure size 360x360 with 1 Axes>"
      ]
     },
     "metadata": {
      "needs_background": "light"
     },
     "output_type": "display_data"
    }
   ],
   "source": [
    "plt.figure(figsize=(5,5)) \n",
    "plt.scatter(beer['temperature'], beer['beer']) \n",
    "plt.xlabel('temperature')\n",
    "plt.ylabel('beer')\n",
    "plt.grid()\n",
    "plt.show()"
   ]
  },
  {
   "cell_type": "markdown",
   "metadata": {},
   "source": [
    "* 독립변수 temperature"
   ]
  },
  {
   "cell_type": "code",
   "execution_count": 32,
   "metadata": {
    "scrolled": true
   },
   "outputs": [
    {
     "data": {
      "text/plain": [
       "0     20.5\n",
       "1     25.0\n",
       "2     10.0\n",
       "3     26.9\n",
       "4     15.8\n",
       "5      4.2\n",
       "6     13.5\n",
       "7     26.0\n",
       "8     23.3\n",
       "9      8.5\n",
       "10    26.2\n",
       "11    19.1\n",
       "12    24.3\n",
       "13    23.3\n",
       "14     8.4\n",
       "15    23.5\n",
       "16    13.9\n",
       "17    35.5\n",
       "18    27.2\n",
       "19    20.5\n",
       "20    10.2\n",
       "21    20.5\n",
       "22    21.6\n",
       "23     7.9\n",
       "24    42.2\n",
       "25    23.9\n",
       "26    36.9\n",
       "27     8.9\n",
       "28    36.4\n",
       "29     6.4\n",
       "Name: temperature, dtype: float64"
      ]
     },
     "execution_count": 32,
     "metadata": {},
     "output_type": "execute_result"
    }
   ],
   "source": [
    "beer['temperature']"
   ]
  },
  {
   "cell_type": "markdown",
   "metadata": {},
   "source": [
    "* 종속변수 beer"
   ]
  },
  {
   "cell_type": "code",
   "execution_count": 33,
   "metadata": {},
   "outputs": [
    {
     "name": "stdout",
     "output_type": "stream",
     "text": [
      "0     45.3\n",
      "1     59.3\n",
      "2     40.4\n",
      "3     38.0\n",
      "4     37.0\n",
      "5     40.9\n",
      "6     60.2\n",
      "7     63.3\n",
      "8     51.1\n",
      "9     44.9\n",
      "10    47.0\n",
      "11    53.2\n",
      "12    43.5\n",
      "13    53.2\n",
      "14    37.4\n",
      "15    59.9\n",
      "16    41.5\n",
      "17    75.1\n",
      "18    55.6\n",
      "19    57.2\n",
      "20    46.5\n",
      "21    35.8\n",
      "22    51.9\n",
      "23    38.2\n",
      "24    66.0\n",
      "25    55.3\n",
      "26    55.3\n",
      "27    43.3\n",
      "28    70.5\n",
      "29    38.8\n",
      "Name: beer, dtype: float64\n",
      "30\n"
     ]
    }
   ],
   "source": [
    "# 종속 변수 확인, 레코드 수 확인\n",
    "print(beer['beer'])\n",
    "print(len(beer))"
   ]
  },
  {
   "cell_type": "markdown",
   "metadata": {},
   "source": [
    "###  데이터 준비 - 학습용 / 검증용 데이터 분리"
   ]
  },
  {
   "cell_type": "code",
   "execution_count": 34,
   "metadata": {},
   "outputs": [],
   "source": [
    "# 전체 데이터 중 80%는 학습용, 20%는 검증용으로 분리\n",
    "import numpy as np \n",
    "\n",
    "#독립변수, 종속변수 데이터셋 준비\n",
    "x = np.array(beer['temperature']).reshape(-1,1)\n",
    "y = beer['beer']\n",
    "\n",
    "from sklearn.model_selection import train_test_split\n",
    "X_train, X_test, y_train, y_test = train_test_split(\\\n",
    "                                                   x, y, test_size=0.2, \\\n",
    "                                                   random_state=1)"
   ]
  },
  {
   "cell_type": "markdown",
   "metadata": {},
   "source": [
    "### 모델 구축"
   ]
  },
  {
   "cell_type": "code",
   "execution_count": 35,
   "metadata": {},
   "outputs": [],
   "source": [
    "from sklearn.linear_model import LinearRegression\n",
    "\n",
    "lr = LinearRegression()"
   ]
  },
  {
   "cell_type": "code",
   "execution_count": 36,
   "metadata": {},
   "outputs": [],
   "source": [
    "# 학습 수행\n",
    "reg = lr.fit(X_train, y_train)"
   ]
  },
  {
   "cell_type": "markdown",
   "metadata": {},
   "source": [
    "##### -> 학습을 통해 회귀계수, 절편을 갖게 됨.\n",
    "* coefficient : 계수 \n",
    "* intercept : 절편"
   ]
  },
  {
   "cell_type": "code",
   "execution_count": 37,
   "metadata": {},
   "outputs": [
    {
     "data": {
      "text/plain": [
       "(array([0.69705648]), 36.06666541566105)"
      ]
     },
     "execution_count": 37,
     "metadata": {},
     "output_type": "execute_result"
    }
   ],
   "source": [
    "reg.coef_, reg.intercept_ "
   ]
  },
  {
   "cell_type": "code",
   "execution_count": 38,
   "metadata": {},
   "outputs": [
    {
     "name": "stdout",
     "output_type": "stream",
     "text": [
      "y = 0.697056X + 36.067\n"
     ]
    }
   ],
   "source": [
    "#회귀식\n",
    "print(\"y = {:2f}X + {:.3f}\".format(reg.coef_[0], reg.intercept_))\n",
    "# 계수는 어레이 형식이기 때문에  coef_[0]으로 표시"
   ]
  },
  {
   "cell_type": "code",
   "execution_count": 39,
   "metadata": {},
   "outputs": [
    {
     "name": "stdout",
     "output_type": "stream",
     "text": [
      "[60.81 50.36 54.33 50.36 41.92 43.18]\n"
     ]
    }
   ],
   "source": [
    "# 구축된 모델에서 예측 수행\n",
    "y_pred = reg.predict(X_test)\n",
    "print(np.round(y_pred,2)) \n",
    "\n",
    "# np.round는 그냥 round와는 다르게 모든 수에 똑같이 다 적용"
   ]
  },
  {
   "cell_type": "code",
   "execution_count": 40,
   "metadata": {
    "scrolled": true
   },
   "outputs": [
    {
     "data": {
      "text/plain": [
       "array([[35.5],\n",
       "       [20.5],\n",
       "       [26.2],\n",
       "       [20.5],\n",
       "       [ 8.4],\n",
       "       [10.2]])"
      ]
     },
     "execution_count": 40,
     "metadata": {},
     "output_type": "execute_result"
    }
   ],
   "source": [
    "X_test"
   ]
  },
  {
   "cell_type": "code",
   "execution_count": 41,
   "metadata": {},
   "outputs": [
    {
     "data": {
      "text/plain": [
       "array([60.81217046, 50.35632326, 54.32954519, 50.35632326, 41.92193985,\n",
       "       43.17664151])"
      ]
     },
     "execution_count": 41,
     "metadata": {},
     "output_type": "execute_result"
    }
   ],
   "source": [
    "y_pred"
   ]
  },
  {
   "cell_type": "markdown",
   "metadata": {},
   "source": [
    "### 모델 성능 평가"
   ]
  },
  {
   "cell_type": "code",
   "execution_count": 42,
   "metadata": {},
   "outputs": [
    {
     "name": "stdout",
     "output_type": "stream",
     "text": [
      "MSE: 91.347\n",
      "RMSE: 9.558\n"
     ]
    }
   ],
   "source": [
    "from sklearn.metrics import mean_squared_error, r2_score\n",
    "\n",
    "#MSE\n",
    "mse = mean_squared_error(y_test, y_pred) # 예측한 정답과의 차이 = 에러\n",
    "\n",
    "#RMSE\n",
    "rmse = np.sqrt(mse)\n",
    "\n",
    "print(\"MSE:\", np.round(mse,3))\n",
    "print(\"RMSE:\", np.round(rmse,3))"
   ]
  },
  {
   "cell_type": "code",
   "execution_count": 43,
   "metadata": {},
   "outputs": [
    {
     "name": "stdout",
     "output_type": "stream",
     "text": [
      "R2:  0.485\n"
     ]
    }
   ],
   "source": [
    "#결정계수 R2 ** 가장 중요 (예측분산/실제분산)\n",
    "r2 = r2_score(y_test, y_pred) # 필요한게 예측, 실제니까 실제정답, 예측정답 입력\n",
    "print(\"R2: \", np.round(r2,3)) \n",
    "# 0.485정도 겹쳐있음"
   ]
  },
  {
   "cell_type": "code",
   "execution_count": 44,
   "metadata": {},
   "outputs": [
    {
     "name": "stdout",
     "output_type": "stream",
     "text": [
      "0.48456481297951504\n"
     ]
    }
   ],
   "source": [
    "print(reg.score(X_test, y_test))"
   ]
  },
  {
   "cell_type": "markdown",
   "metadata": {},
   "source": [
    "y는 맥주판매량 \n",
    "RMSE가 9.558이었으니까 맥주 소비량이 그정도. "
   ]
  },
  {
   "cell_type": "markdown",
   "metadata": {},
   "source": [
    "### 시각화"
   ]
  },
  {
   "cell_type": "code",
   "execution_count": 68,
   "metadata": {},
   "outputs": [
    {
     "data": {
      "image/png": "[encoded data removed]",
      "text/plain": [
       "<Figure size 360x360 with 1 Axes>"
      ]
     },
     "metadata": {
      "needs_background": "light"
     },
     "output_type": "display_data"
    }
   ],
   "source": [
    "#y = 0.697056X + 36.06 시각화\n",
    "# 회귀식을 보여주는 코드\n",
    "plt.figure(figsize=(5,5))\n",
    "xx = np.arange(beer['temperature'].min() -1,  # 독립변수의 최소값보다 한칸 이전\n",
    "               beer['temperature'].max() +1) # 1만큼만 오른쪽으로 가줘 \n",
    "\n",
    "# 실제 데이터의 최소 최대보다 한칸씩 넓혀서 회귀식 그리려 한다.\n",
    "yy = reg.predict(xx.reshape(len(xx),1))# 2차원 어레이로 바꾸는 과정\n",
    "\n",
    "plt.plot(xx, yy, linestyle='--', color='red')\n",
    "\n",
    "# 수집한 데이터셋 시각화 (원래데이터를 보여주는 코드)\n",
    "plt.scatter(beer['temperature'], beer['beer'])\n",
    "\n",
    "plt.xlabel('temperature')\n",
    "plt.ylabel('beer')\n",
    "plt.grid()\n",
    "plt.show()"
   ]
  },
  {
   "cell_type": "markdown",
   "metadata": {},
   "source": [
    "> # **Case1. 나이, 키의 관계 회귀 분석**"
   ]
  },
  {
   "cell_type": "code",
   "execution_count": 19,
   "metadata": {},
   "outputs": [],
   "source": [
    "# 필요한 모듈 import \n",
    "import pandas as pd\n",
    "import matplotlib.pyplot as plt\n",
    "import numpy as np \n",
    "\n",
    "from sklearn.linear_model import LinearRegression"
   ]
  },
  {
   "cell_type": "markdown",
   "metadata": {},
   "source": [
    "#### 데이터 생성/수집"
   ]
  },
  {
   "cell_type": "code",
   "execution_count": 46,
   "metadata": {},
   "outputs": [
    {
     "data": {
      "text/html": [
       "<div>\n",
       "<style scoped>\n",
       "    .dataframe tbody tr th:only-of-type {\n",
       "        vertical-align: middle;\n",
       "    }\n",
       "\n",
       "    .dataframe tbody tr th {\n",
       "        vertical-align: top;\n",
       "    }\n",
       "\n",
       "    .dataframe thead th {\n",
       "        text-align: right;\n",
       "    }\n",
       "</style>\n",
       "<table border=\"1\" class=\"dataframe\">\n",
       "  <thead>\n",
       "    <tr style=\"text-align: right;\">\n",
       "      <th></th>\n",
       "      <th>age(X)</th>\n",
       "      <th>height(T)</th>\n",
       "    </tr>\n",
       "  </thead>\n",
       "  <tbody>\n",
       "    <tr>\n",
       "      <th>0</th>\n",
       "      <td>15.425550</td>\n",
       "      <td>170.910131</td>\n",
       "    </tr>\n",
       "    <tr>\n",
       "      <th>1</th>\n",
       "      <td>23.008112</td>\n",
       "      <td>160.675599</td>\n",
       "    </tr>\n",
       "    <tr>\n",
       "      <th>2</th>\n",
       "      <td>5.002859</td>\n",
       "      <td>129.002066</td>\n",
       "    </tr>\n",
       "    <tr>\n",
       "      <th>3</th>\n",
       "      <td>12.558314</td>\n",
       "      <td>159.701396</td>\n",
       "    </tr>\n",
       "    <tr>\n",
       "      <th>4</th>\n",
       "      <td>8.668897</td>\n",
       "      <td>155.460589</td>\n",
       "    </tr>\n",
       "    <tr>\n",
       "      <th>5</th>\n",
       "      <td>7.308465</td>\n",
       "      <td>140.561344</td>\n",
       "    </tr>\n",
       "    <tr>\n",
       "      <th>6</th>\n",
       "      <td>9.656505</td>\n",
       "      <td>153.654664</td>\n",
       "    </tr>\n",
       "    <tr>\n",
       "      <th>7</th>\n",
       "      <td>13.639018</td>\n",
       "      <td>159.429396</td>\n",
       "    </tr>\n",
       "    <tr>\n",
       "      <th>8</th>\n",
       "      <td>14.919187</td>\n",
       "      <td>164.704239</td>\n",
       "    </tr>\n",
       "    <tr>\n",
       "      <th>9</th>\n",
       "      <td>18.470418</td>\n",
       "      <td>169.645276</td>\n",
       "    </tr>\n",
       "    <tr>\n",
       "      <th>10</th>\n",
       "      <td>15.479863</td>\n",
       "      <td>160.712575</td>\n",
       "    </tr>\n",
       "    <tr>\n",
       "      <th>11</th>\n",
       "      <td>22.130488</td>\n",
       "      <td>173.287099</td>\n",
       "    </tr>\n",
       "    <tr>\n",
       "      <th>12</th>\n",
       "      <td>10.111306</td>\n",
       "      <td>159.311932</td>\n",
       "    </tr>\n",
       "    <tr>\n",
       "      <th>13</th>\n",
       "      <td>26.952936</td>\n",
       "      <td>171.517573</td>\n",
       "    </tr>\n",
       "    <tr>\n",
       "      <th>14</th>\n",
       "      <td>5.684690</td>\n",
       "      <td>138.957043</td>\n",
       "    </tr>\n",
       "    <tr>\n",
       "      <th>15</th>\n",
       "      <td>21.761688</td>\n",
       "      <td>165.874407</td>\n",
       "    </tr>\n",
       "  </tbody>\n",
       "</table>\n",
       "</div>"
      ],
      "text/plain": [
       "       age(X)   height(T)\n",
       "0   15.425550  170.910131\n",
       "1   23.008112  160.675599\n",
       "2    5.002859  129.002066\n",
       "3   12.558314  159.701396\n",
       "4    8.668897  155.460589\n",
       "5    7.308465  140.561344\n",
       "6    9.656505  153.654664\n",
       "7   13.639018  159.429396\n",
       "8   14.919187  164.704239\n",
       "9   18.470418  169.645276\n",
       "10  15.479863  160.712575\n",
       "11  22.130488  173.287099\n",
       "12  10.111306  159.311932\n",
       "13  26.952936  171.517573\n",
       "14   5.684690  138.957043\n",
       "15  21.761688  165.874407"
      ]
     },
     "execution_count": 46,
     "metadata": {},
     "output_type": "execute_result"
    }
   ],
   "source": [
    "data_df = pd.read_csv(\"/Users/hayeon/Downloads/데청캠/회귀분석/data/age_height.csv\" )\n",
    "data_df"
   ]
  },
  {
   "cell_type": "markdown",
   "metadata": {},
   "source": [
    "#### 데이터 탐색"
   ]
  },
  {
   "cell_type": "code",
   "execution_count": 21,
   "metadata": {},
   "outputs": [],
   "source": [
    "# 데이터 분포 시각화"
   ]
  },
  {
   "cell_type": "code",
   "execution_count": 47,
   "metadata": {},
   "outputs": [
    {
     "data": {
      "image/png": "[encoded data removed]",
      "text/plain": [
       "<Figure size 360x360 with 1 Axes>"
      ]
     },
     "metadata": {
      "needs_background": "light"
     },
     "output_type": "display_data"
    }
   ],
   "source": [
    "plt.figure(figsize=(5,5)) # figur : 5,5 사이즈의 캔버스 준비 \n",
    "plt.scatter(data_df['age(X)'], data_df['height(T)']) # 스캐터 뒤에 x, y좌표 쓰기 x, y 1:1 매핑해서 좌표평면에 그리기 \n",
    "plt.xlabel('age')\n",
    "plt.ylabel('height')\n",
    "plt.grid()\n",
    "plt.show()"
   ]
  },
  {
   "cell_type": "markdown",
   "metadata": {},
   "source": [
    "#### 데이터 준비 - 학습용 / 검증용 데이터 분리"
   ]
  },
  {
   "cell_type": "code",
   "execution_count": 48,
   "metadata": {},
   "outputs": [],
   "source": [
    "# 전체 데이터 중 80%는 학습용, 20%는 검증용으로 분리\n",
    "X = np.array(data_df['age(X)']).reshape(-1,1)\n",
    "y = data_df['height(T)']\n",
    "\n",
    "from sklearn.model_selection import train_test_split\n",
    "X_train, X_test, y_train, y_test = train_test_split(X, y, test_size=0.2,\\\n",
    "                                                   random_state =1)"
   ]
  },
  {
   "cell_type": "code",
   "execution_count": 49,
   "metadata": {},
   "outputs": [
    {
     "name": "stdout",
     "output_type": "stream",
     "text": [
      "[1.43863478]\n",
      "138.78419382830361\n"
     ]
    }
   ],
   "source": [
    "# 모델 구축 및 예측\n",
    "from sklearn.linear_model import LinearRegression\n",
    "\n",
    "lr = LinearRegression()\n",
    "reg = lr.fit(X_train, y_train)\n",
    "\n",
    "print(reg.coef_)\n",
    "print(reg.intercept_)"
   ]
  },
  {
   "cell_type": "code",
   "execution_count": 50,
   "metadata": {},
   "outputs": [
    {
     "name": "stdout",
     "output_type": "stream",
     "text": [
      "[156.85 177.56 158.41 145.98]\n"
     ]
    }
   ],
   "source": [
    "# 예측 수행\n",
    "y_pred = reg.predict(X_test)\n",
    "print(np.round(y_pred, 2))"
   ]
  },
  {
   "cell_type": "code",
   "execution_count": 51,
   "metadata": {},
   "outputs": [
    {
     "name": "stdout",
     "output_type": "stream",
     "text": [
      "MSE: 83.495\n",
      "RMSE: 9.138\n",
      "R2:  0.663\n",
      "[1.43863478] 138.78419382830361\n",
      "y = 1.438635X + 138.784\n"
     ]
    }
   ],
   "source": [
    "# 모델 성능 평가\n",
    "from sklearn.metrics import mean_squared_error, r2_score\n",
    "\n",
    "\n",
    "#MSE\n",
    "mse = mean_squared_error(y_test, y_pred) # 빼놓은 6개 데이터의 정답, 아까 예측한 정답과의 차이 = 에러\n",
    "\n",
    "#RMSE\n",
    "rmse = np.sqrt(mse)\n",
    "\n",
    "print(\"MSE:\", np.round(mse,3))\n",
    "print(\"RMSE:\", np.round(rmse,3))\n",
    "\n",
    "\n",
    "#결정계수 R2\n",
    "r2 = r2_score(y_test, y_pred) # 필요한게 예측, 실제니까 실제정답, 예측정답 넣어준다.\n",
    "print(\"R2: \", np.round(r2,3))\n",
    "\n",
    "\n",
    "#회귀식\n",
    "print(reg.coef_, reg.intercept_)\n",
    "print(\"y = {:2f}X + {:.3f}\".format(reg.coef_[0], reg.intercept_))"
   ]
  },
  {
   "cell_type": "code",
   "execution_count": 64,
   "metadata": {},
   "outputs": [],
   "source": [
    "xx=xx.reshape(-1,1)"
   ]
  },
  {
   "cell_type": "code",
   "execution_count": 70,
   "metadata": {},
   "outputs": [],
   "source": [
    "yy=yy.reshape(-1,1)"
   ]
  },
  {
   "cell_type": "code",
   "execution_count": 74,
   "metadata": {},
   "outputs": [
    {
     "data": {
      "text/plain": [
       "array([[143.38782513],\n",
       "       [144.82645991],\n",
       "       [146.26509469],\n",
       "       [147.70372947],\n",
       "       [149.14236425],\n",
       "       [150.58099903],\n",
       "       [152.01963381],\n",
       "       [153.45826859],\n",
       "       [154.89690337],\n",
       "       [156.33553815],\n",
       "       [157.77417294],\n",
       "       [159.21280772],\n",
       "       [160.6514425 ],\n",
       "       [162.09007728],\n",
       "       [163.52871206],\n",
       "       [164.96734684],\n",
       "       [166.40598162],\n",
       "       [167.8446164 ],\n",
       "       [169.28325118],\n",
       "       [170.72188596],\n",
       "       [172.16052074],\n",
       "       [173.59915553],\n",
       "       [175.03779031],\n",
       "       [176.47642509],\n",
       "       [177.91505987],\n",
       "       [179.35369465],\n",
       "       [180.79232943],\n",
       "       [182.23096421],\n",
       "       [183.66959899],\n",
       "       [185.10823377],\n",
       "       [186.54686855],\n",
       "       [187.98550333],\n",
       "       [189.42413811],\n",
       "       [190.8627729 ],\n",
       "       [192.30140768],\n",
       "       [193.74004246],\n",
       "       [195.17867724],\n",
       "       [196.61731202],\n",
       "       [198.0559468 ],\n",
       "       [199.49458158]])"
      ]
     },
     "execution_count": 74,
     "metadata": {},
     "output_type": "execute_result"
    }
   ],
   "source": [
    "yy"
   ]
  },
  {
   "cell_type": "code",
   "execution_count": 72,
   "metadata": {
    "collapsed": true
   },
   "outputs": [
    {
     "ename": "ValueError",
     "evalue": "Expected 2D array, got 1D array instead:\narray=[ 4.00285937  4.49163644  4.98041351  5.46919059  5.95796766  6.44674473\n  6.9355218   7.42429888  7.91307595  8.40185302  8.89063009  9.37940716\n  9.86818424 10.35696131 10.84573838 11.33451545 11.82329253 12.3120696\n 12.80084667 13.28962374 13.77840082 14.26717789 14.75595496 15.24473203\n 15.7335091  16.22228618 16.71106325 17.19984032 17.68861739 18.17739447\n 18.66617154 19.15494861 19.64372568 20.13250275 20.62127983 21.1100569\n 21.59883397 22.08761104 22.57638812 23.06516519 23.55394226 24.04271933\n 24.5314964  25.02027348 25.50905055 25.99782762 26.48660469 26.97538177\n 27.46415884 27.95293591].\nReshape your data either using array.reshape(-1, 1) if your data has a single feature or array.reshape(1, -1) if it contains a single sample.",
     "output_type": "error",
     "traceback": [
      "\u001b[0;31m---------------------------------------------------------------------------\u001b[0m",
      "\u001b[0;31mValueError\u001b[0m                                Traceback (most recent call last)",
      "\u001b[0;32m<ipython-input-72-6a982b8c4e6a>\u001b[0m in \u001b[0;36m<module>\u001b[0;34m\u001b[0m\n\u001b[1;32m      7\u001b[0m                data_df['age(X)'].max() +1)\n\u001b[1;32m      8\u001b[0m \u001b[0;31m# 실제 데이터의 최소 최대보다 한칸씩 넓혀서 회귀식 그리려 한다.\u001b[0m\u001b[0;34m\u001b[0m\u001b[0;34m\u001b[0m\u001b[0;34m\u001b[0m\u001b[0m\n\u001b[0;32m----> 9\u001b[0;31m \u001b[0myy\u001b[0m \u001b[0;34m=\u001b[0m \u001b[0mreg\u001b[0m\u001b[0;34m.\u001b[0m\u001b[0mpredict\u001b[0m\u001b[0;34m(\u001b[0m\u001b[0mxx\u001b[0m\u001b[0;34m)\u001b[0m\u001b[0;34m\u001b[0m\u001b[0;34m\u001b[0m\u001b[0m\n\u001b[0m\u001b[1;32m     10\u001b[0m \u001b[0;34m\u001b[0m\u001b[0m\n\u001b[1;32m     11\u001b[0m \u001b[0mplt\u001b[0m\u001b[0;34m.\u001b[0m\u001b[0mplot\u001b[0m\u001b[0;34m(\u001b[0m\u001b[0mxx\u001b[0m\u001b[0;34m,\u001b[0m \u001b[0myy\u001b[0m\u001b[0;34m,\u001b[0m \u001b[0mlinestyle\u001b[0m\u001b[0;34m=\u001b[0m\u001b[0;34m'--'\u001b[0m\u001b[0;34m,\u001b[0m \u001b[0mcolor\u001b[0m\u001b[0;34m=\u001b[0m\u001b[0;34m'red'\u001b[0m\u001b[0;34m)\u001b[0m\u001b[0;34m\u001b[0m\u001b[0;34m\u001b[0m\u001b[0m\n",
      "\u001b[0;32m~/opt/anaconda3/lib/python3.8/site-packages/sklearn/linear_model/_base.py\u001b[0m in \u001b[0;36mpredict\u001b[0;34m(self, X)\u001b[0m\n\u001b[1;32m    236\u001b[0m             \u001b[0mReturns\u001b[0m \u001b[0mpredicted\u001b[0m \u001b[0mvalues\u001b[0m\u001b[0;34m.\u001b[0m\u001b[0;34m\u001b[0m\u001b[0;34m\u001b[0m\u001b[0m\n\u001b[1;32m    237\u001b[0m         \"\"\"\n\u001b[0;32m--> 238\u001b[0;31m         \u001b[0;32mreturn\u001b[0m \u001b[0mself\u001b[0m\u001b[0;34m.\u001b[0m\u001b[0m_decision_function\u001b[0m\u001b[0;34m(\u001b[0m\u001b[0mX\u001b[0m\u001b[0;34m)\u001b[0m\u001b[0;34m\u001b[0m\u001b[0;34m\u001b[0m\u001b[0m\n\u001b[0m\u001b[1;32m    239\u001b[0m \u001b[0;34m\u001b[0m\u001b[0m\n\u001b[1;32m    240\u001b[0m     \u001b[0m_preprocess_data\u001b[0m \u001b[0;34m=\u001b[0m \u001b[0mstaticmethod\u001b[0m\u001b[0;34m(\u001b[0m\u001b[0m_preprocess_data\u001b[0m\u001b[0;34m)\u001b[0m\u001b[0;34m\u001b[0m\u001b[0;34m\u001b[0m\u001b[0m\n",
      "\u001b[0;32m~/opt/anaconda3/lib/python3.8/site-packages/sklearn/linear_model/_base.py\u001b[0m in \u001b[0;36m_decision_function\u001b[0;34m(self, X)\u001b[0m\n\u001b[1;32m    218\u001b[0m         \u001b[0mcheck_is_fitted\u001b[0m\u001b[0;34m(\u001b[0m\u001b[0mself\u001b[0m\u001b[0;34m)\u001b[0m\u001b[0;34m\u001b[0m\u001b[0;34m\u001b[0m\u001b[0m\n\u001b[1;32m    219\u001b[0m \u001b[0;34m\u001b[0m\u001b[0m\n\u001b[0;32m--> 220\u001b[0;31m         \u001b[0mX\u001b[0m \u001b[0;34m=\u001b[0m \u001b[0mcheck_array\u001b[0m\u001b[0;34m(\u001b[0m\u001b[0mX\u001b[0m\u001b[0;34m,\u001b[0m \u001b[0maccept_sparse\u001b[0m\u001b[0;34m=\u001b[0m\u001b[0;34m[\u001b[0m\u001b[0;34m'csr'\u001b[0m\u001b[0;34m,\u001b[0m \u001b[0;34m'csc'\u001b[0m\u001b[0;34m,\u001b[0m \u001b[0;34m'coo'\u001b[0m\u001b[0;34m]\u001b[0m\u001b[0;34m)\u001b[0m\u001b[0;34m\u001b[0m\u001b[0;34m\u001b[0m\u001b[0m\n\u001b[0m\u001b[1;32m    221\u001b[0m         return safe_sparse_dot(X, self.coef_.T,\n\u001b[1;32m    222\u001b[0m                                dense_output=True) + self.intercept_\n",
      "\u001b[0;32m~/opt/anaconda3/lib/python3.8/site-packages/sklearn/utils/validation.py\u001b[0m in \u001b[0;36minner_f\u001b[0;34m(*args, **kwargs)\u001b[0m\n\u001b[1;32m     61\u001b[0m             \u001b[0mextra_args\u001b[0m \u001b[0;34m=\u001b[0m \u001b[0mlen\u001b[0m\u001b[0;34m(\u001b[0m\u001b[0margs\u001b[0m\u001b[0;34m)\u001b[0m \u001b[0;34m-\u001b[0m \u001b[0mlen\u001b[0m\u001b[0;34m(\u001b[0m\u001b[0mall_args\u001b[0m\u001b[0;34m)\u001b[0m\u001b[0;34m\u001b[0m\u001b[0;34m\u001b[0m\u001b[0m\n\u001b[1;32m     62\u001b[0m             \u001b[0;32mif\u001b[0m \u001b[0mextra_args\u001b[0m \u001b[0;34m<=\u001b[0m \u001b[0;36m0\u001b[0m\u001b[0;34m:\u001b[0m\u001b[0;34m\u001b[0m\u001b[0;34m\u001b[0m\u001b[0m\n\u001b[0;32m---> 63\u001b[0;31m                 \u001b[0;32mreturn\u001b[0m \u001b[0mf\u001b[0m\u001b[0;34m(\u001b[0m\u001b[0;34m*\u001b[0m\u001b[0margs\u001b[0m\u001b[0;34m,\u001b[0m \u001b[0;34m**\u001b[0m\u001b[0mkwargs\u001b[0m\u001b[0;34m)\u001b[0m\u001b[0;34m\u001b[0m\u001b[0;34m\u001b[0m\u001b[0m\n\u001b[0m\u001b[1;32m     64\u001b[0m \u001b[0;34m\u001b[0m\u001b[0m\n\u001b[1;32m     65\u001b[0m             \u001b[0;31m# extra_args > 0\u001b[0m\u001b[0;34m\u001b[0m\u001b[0;34m\u001b[0m\u001b[0;34m\u001b[0m\u001b[0m\n",
      "\u001b[0;32m~/opt/anaconda3/lib/python3.8/site-packages/sklearn/utils/validation.py\u001b[0m in \u001b[0;36mcheck_array\u001b[0;34m(array, accept_sparse, accept_large_sparse, dtype, order, copy, force_all_finite, ensure_2d, allow_nd, ensure_min_samples, ensure_min_features, estimator)\u001b[0m\n\u001b[1;32m    635\u001b[0m             \u001b[0;31m# If input is 1D raise error\u001b[0m\u001b[0;34m\u001b[0m\u001b[0;34m\u001b[0m\u001b[0;34m\u001b[0m\u001b[0m\n\u001b[1;32m    636\u001b[0m             \u001b[0;32mif\u001b[0m \u001b[0marray\u001b[0m\u001b[0;34m.\u001b[0m\u001b[0mndim\u001b[0m \u001b[0;34m==\u001b[0m \u001b[0;36m1\u001b[0m\u001b[0;34m:\u001b[0m\u001b[0;34m\u001b[0m\u001b[0;34m\u001b[0m\u001b[0m\n\u001b[0;32m--> 637\u001b[0;31m                 raise ValueError(\n\u001b[0m\u001b[1;32m    638\u001b[0m                     \u001b[0;34m\"Expected 2D array, got 1D array instead:\\narray={}.\\n\"\u001b[0m\u001b[0;34m\u001b[0m\u001b[0;34m\u001b[0m\u001b[0m\n\u001b[1;32m    639\u001b[0m                     \u001b[0;34m\"Reshape your data either using array.reshape(-1, 1) if \"\u001b[0m\u001b[0;34m\u001b[0m\u001b[0;34m\u001b[0m\u001b[0m\n",
      "\u001b[0;31mValueError\u001b[0m: Expected 2D array, got 1D array instead:\narray=[ 4.00285937  4.49163644  4.98041351  5.46919059  5.95796766  6.44674473\n  6.9355218   7.42429888  7.91307595  8.40185302  8.89063009  9.37940716\n  9.86818424 10.35696131 10.84573838 11.33451545 11.82329253 12.3120696\n 12.80084667 13.28962374 13.77840082 14.26717789 14.75595496 15.24473203\n 15.7335091  16.22228618 16.71106325 17.19984032 17.68861739 18.17739447\n 18.66617154 19.15494861 19.64372568 20.13250275 20.62127983 21.1100569\n 21.59883397 22.08761104 22.57638812 23.06516519 23.55394226 24.04271933\n 24.5314964  25.02027348 25.50905055 25.99782762 26.48660469 26.97538177\n 27.46415884 27.95293591].\nReshape your data either using array.reshape(-1, 1) if your data has a single feature or array.reshape(1, -1) if it contains a single sample."
     ]
    },
    {
     "data": {
      "text/plain": [
       "<Figure size 360x360 with 0 Axes>"
      ]
     },
     "metadata": {},
     "output_type": "display_data"
    }
   ],
   "source": [
    "#나이, 키 데이터 실제 데이터 및 회귀식 시각화\n",
    "\n",
    "\n",
    "# 우리가 구한 회귀식을 보여주는 코드\n",
    "plt.figure(figsize=(5,5))\n",
    "xx = np.linspace(data_df['age(X)'].min() -1, \n",
    "               data_df['age(X)'].max() +1)\n",
    "# 실제 데이터의 최소 최대보다 한칸씩 넓혀서 회귀식 그리려 한다.\n",
    "yy = reg.predict(xx)\n",
    "\n",
    "plt.plot(xx, yy, linestyle='--', color='red')\n",
    "# 수집한 데이터셋 시각화 (원래데이터를 보여주는 코드)\n",
    "plt.scatter(data_df['age(X)'], data_df['height(T)'])\n",
    "\n",
    "plt.xlabel('age')\n",
    "plt.ylabel('height')\n",
    "plt.grid()\n",
    "plt.show()\n"
   ]
  },
  {
   "cell_type": "markdown",
   "metadata": {},
   "source": [
    "# < 스탯츠모델에서 단순선형회귀 수행>"
   ]
  },
  {
   "cell_type": "code",
   "execution_count": null,
   "metadata": {},
   "outputs": [],
   "source": [
    "#스탯츠모델 import\n",
    "import statsmodels.api as sm \n",
    "\n",
    "# 맥주 데이터 \n",
    "# 데이터 생성\n",
    "beer = pd.read_csv('/Users/hayeon/Downloads/데청캠/회귀분석/data/beer.csv')\n",
    "\n",
    "#독립변수, 종속변수 데이터셋 준비\n",
    "import numpy as np\n",
    "\n",
    "X = np.array(beer['temperature']).reshape(-1,1)\n",
    "y = beer['beer']\n",
    "\n",
    "\n",
    "X_train, X_test, y_train, y_test = train_test_split(\\\n",
    "                                                   X, y, test_size=0.2,\n",
    "                                                   random_state=1)\n",
    "\n",
    "# 모델 객체를 생성할 때 스텟츠에서는 상수항이 더해진 입력변수를 요구하기 때문에 \n",
    "# X- train, x_test에 상수항을 더해주는 과정이 필요하다. add_constant \n",
    "# 새로운 X_train, X_test \n",
    "X_train = sm.add_constant(X_train) # 상수항을 미리 더해줘야한다. (스탯츠에서는)X-train에 넣어줘야함\n",
    "X_test = sm.add_constant(X_test)"
   ]
  },
  {
   "cell_type": "markdown",
   "metadata": {},
   "source": [
    "##### ================================="
   ]
  },
  {
   "cell_type": "code",
   "execution_count": null,
   "metadata": {
    "scrolled": false
   },
   "outputs": [],
   "source": [
    "X_test"
   ]
  },
  {
   "cell_type": "code",
   "execution_count": null,
   "metadata": {
    "scrolled": true
   },
   "outputs": [],
   "source": [
    "X_test = sm.add_constant(X_test)\n",
    "X_test # 각각에 상수항 1을 더해준 것 add_constant (절편을 계산하기 위해. 이런 절차를 요구한다.)"
   ]
  },
  {
   "cell_type": "markdown",
   "metadata": {},
   "source": [
    "##### =========================="
   ]
  },
  {
   "cell_type": "code",
   "execution_count": null,
   "metadata": {},
   "outputs": [],
   "source": [
    "# 스탯츠모델 (최소제곱법)\n",
    "lr = sm.OLS(y_train, X_train) # 순서 아까와 다르게 바뀌었으니 주의\n",
    "reg = lr.fit()"
   ]
  },
  {
   "cell_type": "code",
   "execution_count": null,
   "metadata": {},
   "outputs": [],
   "source": [
    "# 성능 평가\n",
    "y_pred = reg.predict(X_test)\n",
    "\n",
    "print(reg.summary()) # summary는 사이킷에는 없고 스탯츠에만 있다.\n",
    "# OLS 모델이고 Least - 최소제곱법을 사용해! \n",
    "# DEp.- 종속은 맥주야! \n",
    "# F 검정의 통계량이 의미하는 것 : 0.05 보다 작으면 모형의 유의성이 인정된다. = 의미있는 모델이다. \n",
    "# const : coef- 절편 / x1의 coef : 기울기 ?? \n",
    "# p 값이 0.05보다 크면 유의미하지 않다는 의미. 0.00이라는 건 아주 작은순데 소수점 세자리까지 잘라서 저렇게 보임 \n",
    "# => 의미있는 회귀 \n"
   ]
  },
  {
   "cell_type": "code",
   "execution_count": null,
   "metadata": {},
   "outputs": [],
   "source": []
  },
  {
   "cell_type": "code",
   "execution_count": null,
   "metadata": {},
   "outputs": [],
   "source": []
  },
  {
   "cell_type": "markdown",
   "metadata": {},
   "source": [
    "# 응용2: 보스턴 집값 선형 회귀(statsmodel)"
   ]
  },
  {
   "cell_type": "markdown",
   "metadata": {},
   "source": [
    "### 데이터 수집"
   ]
  },
  {
   "cell_type": "code",
   "execution_count": null,
   "metadata": {},
   "outputs": [],
   "source": [
    "from sklearn.datasets import load_boston\n",
    "\n",
    "boston = load_boston() # 생성자 만들어줘야함"
   ]
  },
  {
   "cell_type": "markdown",
   "metadata": {},
   "source": [
    "### 데이터 탐색"
   ]
  },
  {
   "attachments": {
    "image.png": {
     "image/png": "[encoded data removed]"
    }
   },
   "cell_type": "raw",
   "metadata": {},
   "source": [
    "14개의 독립 변수(피처)의 의미\n",
    "CRIM: 지역별 범죄 발생률\n",
    " ZN: 25,000평방피트를 초과하는 거주 지역 비율\n",
    " INDUS: 비상업 지역의 넓이 비율\n",
    " CHAS: 찰스강의 더미변수(1은 강의 경계, 0은 경계 아님)\n",
    " NOX: 일산화질소 농도\n",
    " RM: 거주할 수 있는 방 개수\n",
    " AGE: 1940년 이전에 건축된 주택 비율\n",
    " DIS: 5개 주요 고용센터까지 가중 거리\n",
    " RAD: 고속도로 접근 용이도\n",
    "TAX: 10,000달러당 재산세 비율  \n",
    "PTRATIO: 지역의 교사와 학생 수 비율  \n",
    "B: 지역의 흑인 거주 비율  \n",
    "LSTAT: 하위 계층의 비율  \n",
    "PRICE(MEDV): 본인 소유 주택 가격의 중앙값\n",
    "![image.png](attachment:image.png)"
   ]
  },
  {
   "cell_type": "code",
   "execution_count": null,
   "metadata": {},
   "outputs": [],
   "source": [
    "print(boston.DESCR)\n",
    "# 샘플 506개 506개의 구역으로 나눴다.\n",
    "# 독립변수 13개 - 숫자, 범주형 자료 있다. \n",
    "# 네번째 속성의 medium value가 종속변수다.\n",
    "# MEDV가 타겟 (종속)"
   ]
  },
  {
   "cell_type": "code",
   "execution_count": null,
   "metadata": {},
   "outputs": [],
   "source": [
    "dir(boston) # "
   ]
  },
  {
   "cell_type": "code",
   "execution_count": null,
   "metadata": {},
   "outputs": [],
   "source": [
    "boston.feature_names # 독립변수 MEDV를 제외한 13개"
   ]
  },
  {
   "cell_type": "code",
   "execution_count": null,
   "metadata": {},
   "outputs": [],
   "source": [
    "boston.target[:5] # 24 = 2만 4천 (천달러단위라고 descr에 나와있음)"
   ]
  },
  {
   "cell_type": "code",
   "execution_count": null,
   "metadata": {},
   "outputs": [],
   "source": [
    "boston.data[:5]"
   ]
  },
  {
   "cell_type": "markdown",
   "metadata": {},
   "source": [
    "### 데이터 준비"
   ]
  },
  {
   "cell_type": "code",
   "execution_count": null,
   "metadata": {},
   "outputs": [],
   "source": [
    "# boston 데이터에서 독립변수(RM), 종속 변수를 각각 골라내고 데이터프레임으로 변환"
   ]
  },
  {
   "cell_type": "code",
   "execution_count": null,
   "metadata": {},
   "outputs": [],
   "source": [
    "import pandas as pd\n",
    "\n",
    "df = pd.DataFrame(boston.data, columns = boston.feature_names)\n",
    "df"
   ]
  },
  {
   "cell_type": "code",
   "execution_count": null,
   "metadata": {},
   "outputs": [],
   "source": [
    "# 단순선형회귀할건데 독립변수가 너무 많아! \n",
    "# 독립 1 종속 1만 가져다가 머신러닝 알고리즘의 데이터로 사용할 것이다. "
   ]
  },
  {
   "cell_type": "code",
   "execution_count": null,
   "metadata": {},
   "outputs": [],
   "source": [
    "df.head() # 다 독립변수다. 단순선형회귀를 하기 위해 독립변수 1개만 가져갈것 RM = room"
   ]
  },
  {
   "cell_type": "code",
   "execution_count": null,
   "metadata": {},
   "outputs": [],
   "source": [
    "x = df['RM'] # X는 시리즈가 된다. 머신러닝 fit에 넣기 위해서는 2차원으로 만들어야 함 -> 2차원 df로 만들어버리자\n",
    "x = pd.DataFrame(df['RM'])\n",
    "# RM 한 열만 가져오니까 시리즈였는데 데이터프레임으로 만드니까 2차원으로 바뀌었다. \n",
    "\n",
    "y = boston.target"
   ]
  },
  {
   "cell_type": "code",
   "execution_count": null,
   "metadata": {},
   "outputs": [],
   "source": [
    "x"
   ]
  },
  {
   "cell_type": "code",
   "execution_count": null,
   "metadata": {},
   "outputs": [],
   "source": [
    "y[:5]"
   ]
  },
  {
   "cell_type": "markdown",
   "metadata": {},
   "source": [
    "#### x는 2차원, y는 1차원으로 정리"
   ]
  },
  {
   "cell_type": "markdown",
   "metadata": {},
   "source": [
    "### 학습용/ 검증용 데이터 분리"
   ]
  },
  {
   "cell_type": "code",
   "execution_count": null,
   "metadata": {},
   "outputs": [],
   "source": [
    "# 조건 : 학습 7, 검증 3\n",
    "# seed  = 1로 고정\n",
    "##### 5분 실습 / 결정 계수를 구하라\n",
    "\n",
    "from sklearn.model_selection import train_test_split\n",
    "X_train, X_test, y_train, y_test = train_test_split(x, y, test_size=0.3,\\\n",
    "                                                   random_state =1)\n",
    "\n"
   ]
  },
  {
   "cell_type": "markdown",
   "metadata": {},
   "source": [
    "### 모델 구축"
   ]
  },
  {
   "cell_type": "code",
   "execution_count": null,
   "metadata": {},
   "outputs": [],
   "source": [
    "from sklearn.linear_model import LinearRegression\n",
    "\n",
    "lr = LinearRegression()\n",
    "reg = lr.fit(X_train, y_train)\n",
    "\n",
    "print(reg.coef_)\n",
    "print(reg.intercept_)"
   ]
  },
  {
   "cell_type": "markdown",
   "metadata": {},
   "source": [
    "### 모델 평가"
   ]
  },
  {
   "cell_type": "code",
   "execution_count": null,
   "metadata": {},
   "outputs": [],
   "source": [
    "from sklearn.metrics import mean_squared_error, r2_score\n",
    "\n",
    "y_pred = reg.predict(X_test)\n",
    "mse = mean_squared_error(y_test, y_pred)\n",
    "rmse = np.sqrt(mse)\n",
    "\n",
    "r2 = r2_score(y_test, y_pred) # reg.score()해도 똑같다.\n",
    "print(\"MSE:\", np.round(mse,3))\n",
    "print(\"RMSE: \", np.round(rmse,3))\n",
    "print(\"R2:\", np.round(r2,3))"
   ]
  },
  {
   "cell_type": "code",
   "execution_count": null,
   "metadata": {},
   "outputs": [],
   "source": [
    "reg.coef_, reg.intercept_"
   ]
  },
  {
   "cell_type": "markdown",
   "metadata": {},
   "source": [
    "### 시각화"
   ]
  },
  {
   "cell_type": "code",
   "execution_count": null,
   "metadata": {},
   "outputs": [],
   "source": [
    "# 방의 개수와 주택중간가격 관계를 시각화 \n",
    "\n",
    "# y = 8.46x - 30.57\n",
    "plt.figure(figsize = (5,5))\n",
    "plt.scatter(x, y, c ='r', s=5) #s = 점의 사이즈 (스캐터 점)\n",
    "xx = np.linspace(x.min(), x.max())\n",
    "yy = reg.predict(xx.reshape(len(xx), 1))\n",
    "plt.plot(xx, yy, linestyle='-', color='g')\n",
    "plt.grid()\n",
    "plt.show()\n"
   ]
  },
  {
   "cell_type": "code",
   "execution_count": null,
   "metadata": {},
   "outputs": [],
   "source": [
    "\n"
   ]
  },
  {
   "cell_type": "code",
   "execution_count": null,
   "metadata": {},
   "outputs": [],
   "source": []
  }
 ],
 "metadata": {
  "kernelspec": {
   "display_name": "Python 3",
   "language": "python",
   "name": "python3"
  },
  "language_info": {
   "codemirror_mode": {
    "name": "ipython",
    "version": 3
   },
   "file_extension": ".py",
   "mimetype": "text/x-python",
   "name": "python",
   "nbconvert_exporter": "python",
   "pygments_lexer": "ipython3",
   "version": "3.8.8"
  }
 },
 "nbformat": 4,
 "nbformat_minor": 4
}
