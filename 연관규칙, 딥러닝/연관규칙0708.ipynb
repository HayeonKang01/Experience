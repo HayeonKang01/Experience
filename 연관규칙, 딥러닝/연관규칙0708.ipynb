{
 "cells": [
  {
   "cell_type": "code",
   "execution_count": null,
   "id": "01c3bc09",
   "metadata": {},
   "outputs": [],
   "source": [
    "import apyori as ap \n",
    "\n",
    "f = open(\"market.csv\")\n",
    "tr = list(ap.load_transactions(f, delimiter=','))\n"
   ]
  }
 ],
 "metadata": {
  "kernelspec": {
   "display_name": "Python 3",
   "language": "python",
   "name": "python3"
  },
  "language_info": {
   "codemirror_mode": {
    "name": "ipython",
    "version": 3
   },
   "file_extension": ".py",
   "mimetype": "text/x-python",
   "name": "python",
   "nbconvert_exporter": "python",
   "pygments_lexer": "ipython3",
   "version": "3.8.8"
  }
 },
 "nbformat": 4,
 "nbformat_minor": 5
}
