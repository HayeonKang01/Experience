{
 "cells": [
  {
   "cell_type": "code",
   "execution_count": 14,
   "id": "d590adfd",
   "metadata": {},
   "outputs": [],
   "source": [
    "import pandas as pd\n",
    "import numpy as np\n",
    "import matplotlib.pyplot as plt"
   ]
  },
  {
   "cell_type": "code",
   "execution_count": 2,
   "id": "36968f64",
   "metadata": {},
   "outputs": [],
   "source": [
    "data=pd.read_excel('/Users/hayeon/Downloads/전체데이터.xlsx')"
   ]
  },
  {
   "cell_type": "code",
   "execution_count": 8,
   "id": "4f62ffcf",
   "metadata": {},
   "outputs": [],
   "source": [
    "data=data.fillna(0)"
   ]
  },
  {
   "cell_type": "code",
   "execution_count": 3,
   "id": "f732d5b9",
   "metadata": {},
   "outputs": [
    {
     "data": {
      "text/plain": [
       "array([[1.        , 0.24379142],\n",
       "       [0.24379142, 1.        ]])"
      ]
     },
     "execution_count": 3,
     "metadata": {},
     "output_type": "execute_result"
    }
   ],
   "source": [
    "np.corrcoef(data['PM10(bj)'], data['PM10 (ug/m3)'])"
   ]
  },
  {
   "cell_type": "code",
   "execution_count": 4,
   "id": "93c9c5ec",
   "metadata": {},
   "outputs": [
    {
     "data": {
      "text/plain": [
       "array([[1.       , 0.5836876],\n",
       "       [0.5836876, 1.       ]])"
      ]
     },
     "execution_count": 4,
     "metadata": {},
     "output_type": "execute_result"
    }
   ],
   "source": [
    "np.corrcoef(data['PM2.5(bj)'], data['PM10(bj)'])"
   ]
  },
  {
   "cell_type": "code",
   "execution_count": 5,
   "id": "c6c58222",
   "metadata": {},
   "outputs": [
    {
     "data": {
      "text/plain": [
       "array([[1.        , 0.27454474],\n",
       "       [0.27454474, 1.        ]])"
      ]
     },
     "execution_count": 5,
     "metadata": {},
     "output_type": "execute_result"
    }
   ],
   "source": [
    "np.corrcoef(data['PM2.5(bj)'], data['PM2.5 (ug/m3)'])"
   ]
  },
  {
   "cell_type": "code",
   "execution_count": 10,
   "id": "a0cc5f21",
   "metadata": {
    "scrolled": true
   },
   "outputs": [
    {
     "data": {
      "text/plain": [
       "array([[ 1.        , -0.06539478],\n",
       "       [-0.06539478,  1.        ]])"
      ]
     },
     "execution_count": 10,
     "metadata": {},
     "output_type": "execute_result"
    }
   ],
   "source": [
    "np.corrcoef(data['O3 (ppm)'], data['PM10 (ug/m3)'])"
   ]
  },
  {
   "cell_type": "code",
   "execution_count": 18,
   "id": "ba20b302",
   "metadata": {},
   "outputs": [
    {
     "name": "stdout",
     "output_type": "stream",
     "text": [
      "S02 - 대전미세먼지 상관계수 \n",
      " [[1.         0.42294317]\n",
      " [0.42294317 1.        ]]\n"
     ]
    }
   ],
   "source": [
    "print('S02 - 대전미세먼지 상관계수','\\n',\n",
    "      np.corrcoef(data['SO2 (ppm)'], data['PM10 (ug/m3)']))\n",
    "#plt.figure(figsize=(5,5))\n",
    "#plt.scatter(data['SO2 (ppm)'], data['PM10 (ug/m3)'])"
   ]
  },
  {
   "cell_type": "code",
   "execution_count": 21,
   "id": "c930151e",
   "metadata": {},
   "outputs": [
    {
     "data": {
      "image/png": "[encoded data removed]",
      "text/plain": [
       "<Figure size 360x360 with 1 Axes>"
      ]
     },
     "metadata": {
      "needs_background": "light"
     },
     "output_type": "display_data"
    }
   ],
   "source": [
    "np.corrcoef(data['NO2 (ppm)'], data['PM10 (ug/m3)'])\n",
    "plt.figure(figsize=(5,5))\n",
    "plt.scatter(data['NO2 (ppm)'], data['PM10 (ug/m3)'])\n",
    "plt.grid()\n",
    "plt.show()"
   ]
  },
  {
   "cell_type": "code",
   "execution_count": 12,
   "id": "d481dda5",
   "metadata": {},
   "outputs": [
    {
     "data": {
      "text/plain": [
       "array([[1.        , 0.54620834],\n",
       "       [0.54620834, 1.        ]])"
      ]
     },
     "execution_count": 12,
     "metadata": {},
     "output_type": "execute_result"
    }
   ],
   "source": [
    "np.corrcoef(data['CO (ppm)'], data['PM10 (ug/m3)'])"
   ]
  },
  {
   "cell_type": "code",
   "execution_count": 13,
   "id": "1c8c40f8",
   "metadata": {},
   "outputs": [
    {
     "data": {
      "text/plain": [
       "array([[1.        , 0.35786914],\n",
       "       [0.35786914, 1.        ]])"
      ]
     },
     "execution_count": 13,
     "metadata": {},
     "output_type": "execute_result"
    }
   ],
   "source": [
    "np.corrcoef(data['PM10(tg)'], data['PM10 (ug/m3)'])"
   ]
  },
  {
   "cell_type": "markdown",
   "id": "80ceea8b",
   "metadata": {},
   "source": [
    "---"
   ]
  },
  {
   "cell_type": "code",
   "execution_count": 22,
   "id": "c6db4492",
   "metadata": {},
   "outputs": [],
   "source": [
    "from sklearn.preprocessing import StandardScaler, MinMaxScaler\n",
    "from sklearn.model_selection import train_test_split"
   ]
  },
  {
   "cell_type": "code",
   "execution_count": 23,
   "id": "c5176cdd",
   "metadata": {},
   "outputs": [],
   "source": [
    "from sklearn.neighbors import KNeighborsRegressor"
   ]
  },
  {
   "cell_type": "code",
   "execution_count": 26,
   "id": "aa94f31a",
   "metadata": {},
   "outputs": [],
   "source": [
    "X_pm10=data.drop(['date','PM10 (ug/m3)'], axis=1)"
   ]
  },
  {
   "cell_type": "code",
   "execution_count": 27,
   "id": "36cf3e5d",
   "metadata": {},
   "outputs": [],
   "source": [
    "y_pm10 = data['PM10 (ug/m3)']"
   ]
  },
  {
   "cell_type": "code",
   "execution_count": 28,
   "id": "f1798831",
   "metadata": {},
   "outputs": [],
   "source": [
    "X_train, X_test, y_train, y_test = train_test_split(X_pm10, y_pm10)"
   ]
  },
  {
   "cell_type": "code",
   "execution_count": 31,
   "id": "893a000a",
   "metadata": {},
   "outputs": [
    {
     "data": {
      "text/plain": [
       "((373, 15), (1118, 15))"
      ]
     },
     "execution_count": 31,
     "metadata": {},
     "output_type": "execute_result"
    }
   ],
   "source": [
    "X_test.shape, X_train.shape"
   ]
  },
  {
   "cell_type": "code",
   "execution_count": 32,
   "id": "c1aac464",
   "metadata": {},
   "outputs": [
    {
     "data": {
      "text/plain": [
       "((373,), (1118,))"
      ]
     },
     "execution_count": 32,
     "metadata": {},
     "output_type": "execute_result"
    }
   ],
   "source": [
    "y_test.shape, y_train.shape"
   ]
  },
  {
   "cell_type": "markdown",
   "id": "f781ff58",
   "metadata": {},
   "source": [
    "---"
   ]
  },
  {
   "cell_type": "code",
   "execution_count": 36,
   "id": "27c454bd",
   "metadata": {},
   "outputs": [
    {
     "data": {
      "text/plain": [
       "StandardScaler()"
      ]
     },
     "execution_count": 36,
     "metadata": {},
     "output_type": "execute_result"
    }
   ],
   "source": [
    "# Scaler \n",
    "scaler = StandardScaler()\n",
    "scaler.fit(X_train)\n",
    "scaler.fit(X_test)"
   ]
  },
  {
   "cell_type": "code",
   "execution_count": 43,
   "id": "a11d624f",
   "metadata": {},
   "outputs": [],
   "source": [
    "reg = KNeighborsRegressor(n_neighbors=1)\n",
    "reg.fit(X_train, y_train)\n",
    "y_pred = reg.predict(X_test)"
   ]
  },
  {
   "cell_type": "code",
   "execution_count": 44,
   "id": "7d040def",
   "metadata": {},
   "outputs": [
    {
     "name": "stdout",
     "output_type": "stream",
     "text": [
      "0.00804289544235925\n"
     ]
    }
   ],
   "source": [
    "from sklearn.metrics import r2_score, mean_squared_error\n",
    "print(np.mean(y_test==y_pred))"
   ]
  },
  {
   "cell_type": "code",
   "execution_count": 45,
   "id": "07fc496e",
   "metadata": {},
   "outputs": [],
   "source": [
    "reg2 = KNeighborsRegressor(n_neighbors=1, weights='uniform')\n",
    "reg2.fit(X_train, y_train)\n",
    "y_pred2 = reg.predict(X_test)"
   ]
  },
  {
   "cell_type": "code",
   "execution_count": 51,
   "id": "65152db5",
   "metadata": {},
   "outputs": [
    {
     "name": "stdout",
     "output_type": "stream",
     "text": [
      "r2:  0.011906087604892424\n",
      "accuracy 0.00804289544235925\n"
     ]
    }
   ],
   "source": [
    "r2 = r2_score(y_test, y_pred)\n",
    "print('r2: ', r2)\n",
    "print('accuracy', np.mean(y_test == y_pred))"
   ]
  },
  {
   "cell_type": "code",
   "execution_count": 52,
   "id": "332ec596",
   "metadata": {},
   "outputs": [
    {
     "name": "stdout",
     "output_type": "stream",
     "text": [
      "0.00804289544235925\n"
     ]
    }
   ],
   "source": [
    "from sklearn.metrics import accuracy_score\n",
    "print(accuracy_score(y_test, y_pred))"
   ]
  },
  {
   "cell_type": "code",
   "execution_count": 58,
   "id": "eb6203d5",
   "metadata": {},
   "outputs": [],
   "source": [
    "data_s=pd.read_excel('/Users/hayeon/Downloads/전체데이터.xlsx')"
   ]
  },
  {
   "cell_type": "code",
   "execution_count": 92,
   "id": "94c16809",
   "metadata": {},
   "outputs": [],
   "source": [
    "data_s=data_s.fillna(0)"
   ]
  },
  {
   "cell_type": "code",
   "execution_count": 105,
   "id": "cf4366f3",
   "metadata": {},
   "outputs": [],
   "source": [
    "from pandas import get_dummies\n",
    "#pd.get_dummies(data_s['계절'])\n",
    "season_ohe=pd.get_dummies(data_s['계절'])"
   ]
  },
  {
   "cell_type": "code",
   "execution_count": 106,
   "id": "7ea9b263",
   "metadata": {},
   "outputs": [],
   "source": [
    "data=data.fillna(0)"
   ]
  },
  {
   "cell_type": "code",
   "execution_count": 107,
   "id": "5e621850",
   "metadata": {},
   "outputs": [],
   "source": [
    "X_season=pd.concat([season_ohe,data_s[['SO2 (ppm)','NO2 (ppm)','CO (ppm)']]], axis=1)"
   ]
  },
  {
   "cell_type": "code",
   "execution_count": 108,
   "id": "e08ab284",
   "metadata": {},
   "outputs": [],
   "source": [
    "y=data_s[['PM10 (ug/m3)']]"
   ]
  },
  {
   "cell_type": "code",
   "execution_count": 109,
   "id": "33aa3b57",
   "metadata": {},
   "outputs": [],
   "source": [
    "X_train, X_test, y_train, y_test = train_test_split(X_season, y)"
   ]
  },
  {
   "cell_type": "code",
   "execution_count": 110,
   "id": "428b32a0",
   "metadata": {},
   "outputs": [
    {
     "data": {
      "text/plain": [
       "KNeighborsRegressor(n_neighbors=1)"
      ]
     },
     "execution_count": 110,
     "metadata": {},
     "output_type": "execute_result"
    }
   ],
   "source": [
    "reg.fit(X_train, y_train)"
   ]
  },
  {
   "cell_type": "code",
   "execution_count": 111,
   "id": "b94c11a4",
   "metadata": {},
   "outputs": [],
   "source": [
    "y_pred = reg.predict(X_test)"
   ]
  },
  {
   "cell_type": "code",
   "execution_count": 112,
   "id": "d238b0e2",
   "metadata": {},
   "outputs": [
    {
     "name": "stdout",
     "output_type": "stream",
     "text": [
      "PM10 (ug/m3)    0.034853\n",
      "dtype: float64\n"
     ]
    }
   ],
   "source": [
    "print(np.mean(y_test == y_pred))"
   ]
  },
  {
   "cell_type": "code",
   "execution_count": 104,
   "id": "fd564694",
   "metadata": {},
   "outputs": [
    {
     "data": {
      "text/plain": [
       "array(['여름', '가을', '겨울', '봄'], dtype=object)"
      ]
     },
     "execution_count": 104,
     "metadata": {},
     "output_type": "execute_result"
    }
   ],
   "source": [
    "data_s.계절.unique()"
   ]
  },
  {
   "cell_type": "code",
   "execution_count": null,
   "id": "164c6bba",
   "metadata": {},
   "outputs": [],
   "source": []
  }
 ],
 "metadata": {
  "kernelspec": {
   "display_name": "Python 3",
   "language": "python",
   "name": "python3"
  },
  "language_info": {
   "codemirror_mode": {
    "name": "ipython",
    "version": 3
   },
   "file_extension": ".py",
   "mimetype": "text/x-python",
   "name": "python",
   "nbconvert_exporter": "python",
   "pygments_lexer": "ipython3",
   "version": "3.8.8"
  }
 },
 "nbformat": 4,
 "nbformat_minor": 5
}
